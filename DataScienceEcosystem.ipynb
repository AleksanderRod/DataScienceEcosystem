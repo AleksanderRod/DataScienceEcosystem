{
 "cells": [
  {
   "attachments": {},
   "cell_type": "markdown",
   "id": "7cfccdaa",
   "metadata": {},
   "source": [
    "# Data Science Tools and Ecosystem"
   ]
  },
  {
   "cell_type": "markdown",
   "id": "64e7a8f9",
   "metadata": {},
   "source": [
    "In this notebook, Data Science Tools and Ecosytems are summarized."
   ]
  },
  {
   "cell_type": "markdown",
   "id": "5a1353d1",
   "metadata": {},
   "source": [
    "**Objectives:**\n",
    "* List of popular languages for Data Science\n",
    "* List of common libraires for Data Science \n",
    "* Arithmetic's in Python\n"
   ]
  },
  {
   "cell_type": "markdown",
   "id": "7bc03432",
   "metadata": {},
   "source": [
    "Some of the popular languages that Data Scienteists use are:\n",
    "1. python\n",
    "2. SQL\n",
    "3. R"
   ]
  },
  {
   "cell_type": "markdown",
   "id": "d7fbb5d8",
   "metadata": {},
   "source": [
    "Some of the commoly used libraires used by Data Scientists include:\n",
    "1. Numpy\n",
    "2. Pandas\n",
    "3. Matplotlib"
   ]
  },
  {
   "cell_type": "markdown",
   "id": "859989e9",
   "metadata": {},
   "source": [
    "| Data Science Tools |\n",
    "| -------------|\n",
    "| Jupyter Notebook |\n",
    "| RStudio | \n",
    "| GitHub |"
   ]
  },
  {
   "cell_type": "markdown",
   "id": "eace1377",
   "metadata": {},
   "source": [
    "### Below are a few examples of evaluating arithmetic expressions in Pyhton\n"
   ]
  },
  {
   "cell_type": "code",
   "execution_count": 4,
   "id": "df564212",
   "metadata": {},
   "outputs": [
    {
     "data": {
      "text/plain": [
       "17"
      ]
     },
     "execution_count": 4,
     "metadata": {},
     "output_type": "execute_result"
    }
   ],
   "source": [
    "(3*4) + 5"
   ]
  },
  {
   "cell_type": "code",
   "execution_count": 5,
   "id": "28d6ecdc",
   "metadata": {},
   "outputs": [
    {
     "data": {
      "text/plain": [
       "3.3333333333333335"
      ]
     },
     "execution_count": 5,
     "metadata": {},
     "output_type": "execute_result"
    }
   ],
   "source": [
    "# this will convert 200 mintues to hours by dividing by 60\n",
    "200/60"
   ]
  },
  {
   "cell_type": "markdown",
   "id": "e546bc56",
   "metadata": {},
   "source": [
    "## Author: \n",
    "Aleksander Rodriguez"
   ]
  }
 ],
 "metadata": {
  "kernelspec": {
   "display_name": "Python 3 (ipykernel)",
   "language": "python",
   "name": "python3"
  },
  "language_info": {
   "codemirror_mode": {
    "name": "ipython",
    "version": 3
   },
   "file_extension": ".py",
   "mimetype": "text/x-python",
   "name": "python",
   "nbconvert_exporter": "python",
   "pygments_lexer": "ipython3",
   "version": "3.11.5"
  }
 },
 "nbformat": 4,
 "nbformat_minor": 5
}
